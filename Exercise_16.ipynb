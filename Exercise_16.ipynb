{
 "cells": [
  {
   "cell_type": "code",
   "execution_count": 1,
   "metadata": {
    "collapsed": true
   },
   "outputs": [],
   "source": [
    "# The power set of a set is the set of all its subsets. Write a function that, given a set, generates its power set.\n",
    "# \n",
    "# For example, given the set {1, 2, 3}, it should return {{}, {1}, {2}, {3}, {1, 2}, {1, 3}, {2, 3}, {1, 2, 3}}.\n",
    "# \n",
    "# You may also use a list or array to represent a set.\n",
    "\n",
    "\n",
    "set1 = ([1, 2])  # {}, {1}, {2}, {1, 2}. \n",
    "set2 = ([1, 2, 3])  # {{}, {1}, {2}, {3}, {1, 2}, {1, 3}, {2, 3}, {1, 2, 3}}.\n"
   ]
  },
  {
   "cell_type": "code",
   "execution_count": 2,
   "metadata": {},
   "outputs": [],
   "source": [
    "# Lets start thinking about an even simpler case: {1, 2}, which should return {}, {1}, {2}, {1, 2}. \n",
    "# We always return at least the emtpy set, the full set, and a set containing each entry\n",
    "# The only thing left from there are the combinations of entries.\n",
    "# A simple way to find all combinations is to try to reduce the complexity of the problem on each \"loop\"\n",
    "# Lets make a recursive function that starts with the full set and creates chains of smaller and \n",
    "# smaller subsets to iterate over until it ends\n",
    "\n",
    "\n",
    "def recursive_powerset(current_set):\n",
    "    if len(current_set) <= 0:\n",
    "        yield []  \n",
    "    else:\n",
    "        # Start new chains with smaller subsets \n",
    "        for subset in recursive_powerset(current_set[1:]):  # Keep reducing the size of the subset\n",
    "            yield [current_set[0]] + subset  # First yield the full subset before cutting it\n",
    "            yield subset  # Then yield the smaller one\n",
    "            \n",
    "# This should have a 2^n run time as it is a combinatorial problem "
   ]
  },
  {
   "cell_type": "code",
   "execution_count": 3,
   "metadata": {},
   "outputs": [
    {
     "name": "stdout",
     "output_type": "stream",
     "text": [
      "[[1, 2], [2], [1], []]\n"
     ]
    }
   ],
   "source": [
    "subsets = [x for x in recursive_powerset(set1)]\n",
    "print(subsets)\n"
   ]
  },
  {
   "cell_type": "code",
   "execution_count": 4,
   "metadata": {},
   "outputs": [
    {
     "name": "stdout",
     "output_type": "stream",
     "text": [
      "[[1, 2, 3], [2, 3], [1, 3], [3], [1, 2], [2], [1], []]\n"
     ]
    }
   ],
   "source": [
    "subsets2 = [x for x in recursive_powerset(set2)]\n",
    "print(subsets2)"
   ]
  },
  {
   "cell_type": "code",
   "execution_count": 17,
   "metadata": {},
   "outputs": [],
   "source": []
  }
 ],
 "metadata": {
  "kernelspec": {
   "display_name": "Python 2",
   "language": "python",
   "name": "python2"
  },
  "language_info": {
   "codemirror_mode": {
    "name": "ipython",
    "version": 2
   },
   "file_extension": ".py",
   "mimetype": "text/x-python",
   "name": "python",
   "nbconvert_exporter": "python",
   "pygments_lexer": "ipython2",
   "version": "2.7.6"
  }
 },
 "nbformat": 4,
 "nbformat_minor": 0
}
