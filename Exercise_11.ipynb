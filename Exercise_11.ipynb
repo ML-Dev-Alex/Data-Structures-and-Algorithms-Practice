{
 "cells": [
  {
   "cell_type": "code",
   "execution_count": 2,
   "metadata": {
    "collapsed": true
   },
   "outputs": [],
   "source": [
    "# A unival tree (which stands for \"universal value\") is a tree where all nodes under it have the same value.\n",
    "# \n",
    "# Given the root to a binary tree, count the number of unival subtrees.\n",
    "# \n",
    "# For example, the following tree has 5 unival subtrees:\n",
    "# \n",
    "#    0\n",
    "#   / \\\n",
    "#  1   0\n",
    "#     / \\\n",
    "#    1   0\n",
    "#   / \\\n",
    "#  1   1"
   ]
  },
  {
   "cell_type": "code",
   "execution_count": 163,
   "metadata": {},
   "outputs": [],
   "source": [
    "# The easiest way to traverse a tree is usually a recursive function, so lets jump right into it\n",
    "\n",
    "\n",
    "def unival_counter(root):\n",
    "    return print(\"Number of unival trees: \", recursive_unival(root))\n",
    "\n",
    "\n",
    "def recursive_unival(node):\n",
    "    counter = 0\n",
    "    if node.left is not None:\n",
    "        counter += recursive_unival(node.left) \n",
    "    if node.right is not None:\n",
    "        counter += recursive_unival(node.right)\n",
    "    \n",
    "    if node.right is not None and node.left is not None:\n",
    "        if node.left.value == node.right.value == node.value:\n",
    "            counter += 1\n",
    "    else:\n",
    "        if node.right is None and node.left is None:\n",
    "            counter += 1\n",
    "    return counter"
   ]
  },
  {
   "cell_type": "code",
   "execution_count": 167,
   "metadata": {},
   "outputs": [],
   "source": [
    "# Now to test it out we need to build the tree:\n",
    "\n",
    "\n",
    "class Node:\n",
    "    def __init__(self, value, left=None, right=None):\n",
    "        self.value = value\n",
    "        self.left = left\n",
    "        self.right = right\n",
    "\n",
    "#    0        \n",
    "#   / \\\n",
    "#  1   0\n",
    "#     / \\\n",
    "#    1   0\n",
    "#   / \\\n",
    "#  1   1 \n",
    "\n",
    "\n",
    "tree = Node(0, left=Node(1), right=Node(0, left=Node(1, left=Node(1), right=Node(1)), right=Node(0)))"
   ]
  },
  {
   "cell_type": "code",
   "execution_count": 168,
   "metadata": {},
   "outputs": [
    {
     "name": "stdout",
     "output_type": "stream",
     "text": [
      "Number of unival trees:  5\n"
     ]
    }
   ],
   "source": [
    "unival_counter(tree)"
   ]
  },
  {
   "cell_type": "code",
   "execution_count": 167,
   "metadata": {},
   "outputs": [],
   "source": []
  },
  {
   "cell_type": "code",
   "execution_count": null,
   "metadata": {},
   "outputs": [],
   "source": []
  }
 ],
 "metadata": {
  "kernelspec": {
   "display_name": "Python 2",
   "language": "python",
   "name": "python2"
  },
  "language_info": {
   "codemirror_mode": {
    "name": "ipython",
    "version": 2
   },
   "file_extension": ".py",
   "mimetype": "text/x-python",
   "name": "python",
   "nbconvert_exporter": "python",
   "pygments_lexer": "ipython2",
   "version": "2.7.6"
  }
 },
 "nbformat": 4,
 "nbformat_minor": 0
}
