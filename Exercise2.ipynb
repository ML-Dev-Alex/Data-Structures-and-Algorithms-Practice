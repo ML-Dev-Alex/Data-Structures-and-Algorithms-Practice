{
 "cells": [
  {
   "cell_type": "code",
   "execution_count": 2,
   "metadata": {
    "collapsed": true
   },
   "outputs": [],
   "source": [
    "# Given an array of integers, return a new array such that each element at index i\n",
    "# of the new array is the product of all the numbers in the original array except the one at i.\n",
    "# For example, if our input was [1, 2, 3, 4, 5],\n",
    "# the expected output would be [120, 60, 40, 30, 24].\n",
    "# If our input was [3, 2, 1],\n",
    "# the expected output would be [2, 3, 6].\n",
    "\n",
    "a1 = [3, 2, 1]\n",
    "a2 = [1, 2, 3, 4, 5]\n",
    "\n"
   ]
  },
  {
   "cell_type": "code",
   "execution_count": 32,
   "metadata": {},
   "outputs": [],
   "source": [
    "# As usual lets start with the simplest implementation, brute forcing our way through:\n",
    "# We start by creating an array of the same size as the input, and iterate through all possible combinations\n",
    "# multiplying and storing the results in the output array\n",
    "\n",
    "\n",
    "def prod(arr):\n",
    "    out = []\n",
    "    for i in range(len(arr)):\n",
    "        out.append(0)\n",
    "        for j in range(len(arr)):\n",
    "            if i != j:\n",
    "                if out[i] == 0:\n",
    "                    out[i] = arr[j]\n",
    "                else:\n",
    "                    out[i] *= arr[j]\n",
    "    return out\n",
    "            \n",
    "# This solution has O(n^2), as we loop through the array twice, \n",
    "# multiplying every element by every other element\n",
    "    "
   ]
  },
  {
   "cell_type": "code",
   "execution_count": 33,
   "metadata": {},
   "outputs": [
    {
     "data": {
      "text/plain": [
       "[2, 3, 6]"
      ]
     },
     "execution_count": 33,
     "metadata": {},
     "output_type": "execute_result"
    }
   ],
   "source": [
    "prod(a1)"
   ]
  },
  {
   "cell_type": "code",
   "execution_count": 29,
   "metadata": {},
   "outputs": [
    {
     "data": {
      "text/plain": [
       "[120, 60, 40, 30, 24]"
      ]
     },
     "execution_count": 29,
     "metadata": {},
     "output_type": "execute_result"
    }
   ],
   "source": [
    "prod(a2)"
   ]
  },
  {
   "cell_type": "code",
   "execution_count": 38,
   "metadata": {},
   "outputs": [],
   "source": [
    "# We could also just store the product of the whole array and simply divide that by each entry :\n",
    "\n",
    "\n",
    "def prod2(arr):\n",
    "    out = []\n",
    "    prod = 1\n",
    "    for i in range(len(arr)):\n",
    "        prod *= array[i]\n",
    "    for i in range(len(arr)):\n",
    "        out.append(int(prod / arr[i]))\n",
    "    return out\n",
    "\n",
    "# This has O(n), as we just go through the array twice, once to create the product, and once to divide \n",
    "# by that number"
   ]
  },
  {
   "cell_type": "code",
   "execution_count": 39,
   "metadata": {},
   "outputs": [
    {
     "data": {
      "text/plain": [
       "[2, 3, 6]"
      ]
     },
     "execution_count": 39,
     "metadata": {},
     "output_type": "execute_result"
    }
   ],
   "source": [
    "prod2(a1)"
   ]
  },
  {
   "cell_type": "code",
   "execution_count": 40,
   "metadata": {},
   "outputs": [
    {
     "data": {
      "text/plain": [
       "[120, 60, 40, 30, 24]"
      ]
     },
     "execution_count": 40,
     "metadata": {},
     "output_type": "execute_result"
    }
   ],
   "source": [
    "prod2(a2)"
   ]
  },
  {
   "cell_type": "code",
   "execution_count": null,
   "metadata": {},
   "outputs": [],
   "source": [
    ""
   ]
  }
 ],
 "metadata": {
  "kernelspec": {
   "display_name": "Python 2",
   "language": "python",
   "name": "python2"
  },
  "language_info": {
   "codemirror_mode": {
    "name": "ipython",
    "version": 2
   },
   "file_extension": ".py",
   "mimetype": "text/x-python",
   "name": "python",
   "nbconvert_exporter": "python",
   "pygments_lexer": "ipython2",
   "version": "2.7.6"
  }
 },
 "nbformat": 4,
 "nbformat_minor": 0
}
