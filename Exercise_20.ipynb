{
 "cells": [
  {
   "cell_type": "code",
   "execution_count": 5,
   "metadata": {
    "collapsed": true
   },
   "outputs": [],
   "source": [
    "# You are given an M by N matrix consisting of booleans that represents a board.\n",
    "# Each True boolean represents a wall. Each False boolean represents a tile you can walk on.\n",
    "# \n",
    "# Given this matrix, a start coordinate, and an end coordinate,\n",
    "# return the minimum number of steps required to reach the end coordinate \n",
    "# from the start. If there is no possible path, then return null.\n",
    "# You can move up, left, down, and right. You cannot move through walls.\n",
    "# You cannot wrap around the edges of the board.\n",
    "# \n",
    "# For example, given the following board:\n",
    "# \n",
    "# [[f, f, f, f],\n",
    "#  [t, t, f, t],\n",
    "#  [f, f, f, f],\n",
    "#  [f, f, f, f]]\n",
    "# and start = (3, 0) (bottom left) and end = (0, 0) (top left),\n",
    "# the minimum number of steps required to reach the end is 7,\n",
    "# since we would need to go through (1, 2) because there is a wall everywhere else on the second row.\n",
    "import numpy as np\n",
    "import copy\n",
    "\n",
    "\n",
    "board = np.array([[False, False, False, False],\n",
    "                  [True,  True,  False, True],\n",
    "                  [False, False, False, False], \n",
    "                  [False, False, False, False]])\n",
    "\n",
    "start = [3, 0]\n",
    "end = [0, 0]\n",
    "traveled = {}"
   ]
  },
  {
   "cell_type": "code",
   "execution_count": 6,
   "metadata": {},
   "outputs": [],
   "source": [
    "def find_exit(current, end, matrix, traveled, counter=0):\n",
    "    # If we reach our goal, print the number of steps taken from start\n",
    "    if current == end:\n",
    "        print(counter)\n",
    "\n",
    "    # This is a simple algorithm:\n",
    "    # For each direction, if we can take another step,\n",
    "    # increase the counter, and add that counter and position to the traveled dictionary\n",
    "    if current[0] + 1 < len(matrix):\n",
    "        if (not matrix[current[0] + 1, current[1]]) and ((current[0] + 1, current[1]) not in traveled or\n",
    "                                                       counter < traveled[(current[0] + 1, current[1])]):\n",
    "            counter += 1\n",
    "            current[0] += 1\n",
    "            traveled[tuple(current)] = counter\n",
    "            find_exit(copy.copy(current), end, matrix, copy.copy(traveled), counter)\n",
    "            \n",
    "    if current[1] + 1 < len(matrix):\n",
    "        if (not matrix[current[0], current[1] + 1]) and ((current[0], current[1] + 1) not in traveled or\n",
    "                                                       counter < traveled[(current[0], current[1] + 1)]):\n",
    "            counter += 1\n",
    "            current[1] += 1\n",
    "            traveled[tuple(current)] = counter\n",
    "            find_exit(copy.copy(current), end, matrix, copy.copy(traveled), counter)\n",
    "            \n",
    "    if current[0] - 1 >= 0:\n",
    "        if (not matrix[current[0] - 1, current[1]]) and ((current[0] - 1, current[1]) not in traveled or\n",
    "                                                       counter < traveled[(current[0] - 1, current[1])]):\n",
    "            counter += 1\n",
    "            current[0] -= 1\n",
    "            traveled[tuple(current)] = counter\n",
    "            find_exit(copy.copy(current), end, matrix, copy.copy(traveled), counter)\n",
    "            \n",
    "    if current[1] - 1 >= 0:\n",
    "        if (not matrix[current[0], current[1] - 1]) and ((current[0], current[1] - 1) not in traveled or\n",
    "                                                       counter < traveled[(current[0], current[1] - 1)]):\n",
    "            counter += 1\n",
    "            current[1] -= 1\n",
    "            traveled[tuple(current)] = counter\n",
    "            find_exit(copy.copy(current), end, matrix, copy.copy(traveled), counter)\n",
    "\n",
    "    \n",
    "# We basically create multiple exploratory threads that recursively try to navigate to all directions,\n",
    "# then they mostly die off getting stuck at a corner, but a few of them end up reaching the end"
   ]
  },
  {
   "cell_type": "code",
   "execution_count": 7,
   "metadata": {
    "collapsed": false
   },
   "outputs": [
    {
     "name": "stdout",
     "output_type": "stream",
     "text": [
      "solutions: \n9\n9\n9\n9\n7\n"
     ]
    }
   ],
   "source": [
    "print(\"solutions: \")\n",
    "# We need to create copies because python passes mutable objects as references,\n",
    "# and we need separate \"threads\"\n",
    "find_exit(copy.copy(start), end, board, copy.copy(traveled))\n",
    "\n"
   ]
  },
  {
   "cell_type": "code",
   "execution_count": null,
   "metadata": {},
   "outputs": [],
   "source": []
  }
 ],
 "metadata": {
  "kernelspec": {
   "display_name": "Python 2",
   "language": "python",
   "name": "python2"
  },
  "language_info": {
   "codemirror_mode": {
    "name": "ipython",
    "version": 2
   },
   "file_extension": ".py",
   "mimetype": "text/x-python",
   "name": "python",
   "nbconvert_exporter": "python",
   "pygments_lexer": "ipython2",
   "version": "2.7.6"
  }
 },
 "nbformat": 4,
 "nbformat_minor": 0
}
