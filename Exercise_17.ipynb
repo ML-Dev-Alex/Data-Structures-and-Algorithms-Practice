{
 "cells": [
  {
   "cell_type": "code",
   "execution_count": 1,
   "metadata": {
    "collapsed": true
   },
   "outputs": [],
   "source": [
    "# Given an array of strictly the characters 'R', 'G', and 'B', \n",
    "# segregate the values of the array so that all the Rs come first, the Gs come second,\n",
    "# and the Bs come last. You can only swap elements of the array.\n",
    "# \n",
    "# Do this in linear time and in-place.\n",
    "# \n",
    "# For example, given the array ['G', 'B', 'R', 'R', 'B', 'R', 'G'], \n",
    "# it should become ['R', 'R', 'R', 'G', 'G', 'B', 'B'].\n",
    "arr = ['G', 'B', 'R', 'R', 'B', 'R', 'G'] "
   ]
  },
  {
   "cell_type": "code",
   "execution_count": 2,
   "metadata": {},
   "outputs": [],
   "source": [
    "# All right, to do this in place and with linear complexity we can't use most normal sorting algorithms, \n",
    "# So lets try a simpler version of the counting algorithm since this is such a simple problem compared to most \n",
    "# sorting problems.\n",
    "\n",
    "\n",
    "def sort_rgb(rgb_array):\n",
    "    red, green, blue = 0, 0, 0\n",
    "    for color in rgb_array:\n",
    "        if color == \"R\":\n",
    "            red += 1\n",
    "        elif color == \"G\":\n",
    "            green += 1\n",
    "        elif color == \"B\":\n",
    "            blue += 1\n",
    "        else:\n",
    "            return \"Error, array not in correct format. (Should only contain 'R', 'G' or 'B')\"\n",
    "    \n",
    "    for i in range(len(rgb_array)):\n",
    "        if red is not 0:\n",
    "            rgb_array[i] = \"R\"\n",
    "            red -= 1\n",
    "        elif green is not 0:\n",
    "            rgb_array[i] = \"G\"\n",
    "            green -= 1\n",
    "        elif blue is not 0:\n",
    "            rgb_array[i] = \"B\"\n",
    "            blue -= 1\n",
    "    print(rgb_array)\n",
    "\n",
    "# This has O(2n) which is still linear time as it can be represented as order of O(n), and it is done in place\n"
   ]
  },
  {
   "cell_type": "code",
   "execution_count": 3,
   "metadata": {
    "collapsed": false
   },
   "outputs": [
    {
     "name": "stdout",
     "output_type": "stream",
     "text": [
      "['R', 'R', 'R', 'G', 'G', 'B', 'B']\n"
     ]
    }
   ],
   "source": [
    "sort_rgb(arr)"
   ]
  },
  {
   "cell_type": "code",
   "execution_count": 7,
   "metadata": {},
   "outputs": [],
   "source": []
  }
 ],
 "metadata": {
  "kernelspec": {
   "display_name": "Python 2",
   "language": "python",
   "name": "python2"
  },
  "language_info": {
   "codemirror_mode": {
    "name": "ipython",
    "version": 2
   },
   "file_extension": ".py",
   "mimetype": "text/x-python",
   "name": "python",
   "nbconvert_exporter": "python",
   "pygments_lexer": "ipython2",
   "version": "2.7.6"
  }
 },
 "nbformat": 4,
 "nbformat_minor": 0
}
