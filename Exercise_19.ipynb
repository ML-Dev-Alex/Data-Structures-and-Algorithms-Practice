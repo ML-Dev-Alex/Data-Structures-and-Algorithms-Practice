{
 "cells": [
  {
   "cell_type": "code",
   "execution_count": 1,
   "metadata": {
    "collapsed": true
   },
   "outputs": [],
   "source": [
    "# Given two singly linked lists that intersect at some point, find the intersecting node. The lists are non-cyclical.\n",
    "# \n",
    "# For example, given A = 3 -> 7 -> 8 -> 10 and B = 99 -> 1 -> 8 -> 10, return the node with value 8.\n",
    "# \n",
    "# In this example, assume nodes with the same value are the exact same node objects.\n",
    "# \n",
    "# Do this in O(M + N) time (where M and N are the lengths of the lists) and constant space.\n",
    "\n",
    "\n",
    "class Node:\n",
    "    def __init__(self, value, next_node=None):\n",
    "        self.value = value\n",
    "        self.next_node = next_node\n",
    "        \n",
    "        \n",
    "A = Node(3, Node(7, Node(8, Node(10))))\n",
    "B = Node(99, Node(1, Node(8, Node(10))))"
   ]
  },
  {
   "cell_type": "code",
   "execution_count": 2,
   "metadata": {},
   "outputs": [],
   "source": [
    "# Doing this in O(n * m) is trivial, so lets try to jump right into O(M+N) time and O(1) space\n",
    "def find_intersection(head_a, head_b):\n",
    "    length_a = 0\n",
    "    length_b = 0\n",
    "    node_a = head_a\n",
    "    node_b = head_b\n",
    "    \n",
    "    while node_a.next_node is not None:\n",
    "        length_a += 1\n",
    "        node_a = node_a.next_node\n",
    "\n",
    "    while node_b.next_node is not None:\n",
    "        length_b += 1\n",
    "        node_b = node_b.next_node\n",
    "\n",
    "    # If lists don't have same end value then they don't intersect\n",
    "    if node_a.value is not node_b.value:\n",
    "        return None\n",
    "    \n",
    "    if length_a >= length_b:\n",
    "        bigger_node = head_a\n",
    "        smaller_node = head_b\n",
    "        difference = length_a - length_b\n",
    "    else:\n",
    "        smaller_node = head_a\n",
    "        bigger_node = head_b\n",
    "        difference = length_b - length_a\n",
    "\n",
    "    # If lists have different lengths, walk along bigger list until there are the same amount of nodes left \n",
    "    while difference > 0:\n",
    "        bigger_node = bigger_node.next_node\n",
    "        difference -= 1\n",
    "\n",
    "    # Finally walk along both lists at the same time looking for the intersection\n",
    "    while bigger_node.value != smaller_node.value:\n",
    "        bigger_node = bigger_node.next_node\n",
    "        smaller_node = smaller_node.next_node\n",
    "\n",
    "    return bigger_node.value\n",
    "        \n",
    "\n",
    "# This should have O(2N + M), or order of O(N + M)\n"
   ]
  },
  {
   "cell_type": "code",
   "execution_count": 158,
   "metadata": {
    "collapsed": true
   },
   "outputs": [
    {
     "name": "stdout",
     "output_type": "stream",
     "text": [
      "8\n"
     ]
    }
   ],
   "source": [
    "print(find_intersection(A, B))"
   ]
  },
  {
   "cell_type": "code",
   "execution_count": 116,
   "metadata": {},
   "outputs": [],
   "source": []
  },
  {
   "cell_type": "code",
   "execution_count": null,
   "metadata": {},
   "outputs": [],
   "source": []
  }
 ],
 "metadata": {
  "kernelspec": {
   "display_name": "Python 2",
   "language": "python",
   "name": "python2"
  },
  "language_info": {
   "codemirror_mode": {
    "name": "ipython",
    "version": 2
   },
   "file_extension": ".py",
   "mimetype": "text/x-python",
   "name": "python",
   "nbconvert_exporter": "python",
   "pygments_lexer": "ipython2",
   "version": "2.7.6"
  }
 },
 "nbformat": 4,
 "nbformat_minor": 0
}
