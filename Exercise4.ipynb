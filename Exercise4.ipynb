{
 "cells": [
  {
   "cell_type": "code",
   "execution_count": 49,
   "metadata": {
    "collapsed": true
   },
   "outputs": [],
   "source": [
    "# Given an array of tuples of points, write a function that returns the K closest points to the origin "
   ]
  },
  {
   "cell_type": "code",
   "execution_count": 1,
   "metadata": {},
   "outputs": [],
   "source": [
    "# First thing that comes to mind is to take the absolute value of their sums and return the smallest ones\n",
    "\n",
    "\n",
    "def closest(points, k):\n",
    "    d = {}\n",
    "    smallest = []\n",
    "    output = []\n",
    "    \n",
    "    for i in range(len(points)):\n",
    "        smallest.append((points[i][0] ** 2) + (points[i][1] ** 2))  # Distance from center\n",
    "        d.update({smallest[i]: i})  # Store distance and position in a dictionary \n",
    "        \n",
    "    smallest.sort()\n",
    "    for i in range(k):\n",
    "        output.append(d[smallest[i]])  # Return the position of the K smallest elements\n",
    "    return output\n",
    "\n",
    "\n",
    "# Time complexity is O(n log n) since that's the usually the time it takes to sort a list\n",
    "# and we only go through the array once\n"
   ]
  },
  {
   "cell_type": "code",
   "execution_count": 2,
   "metadata": {
    "collapsed": true
   },
   "outputs": [
    {
     "data": {
      "text/plain": [
       "[2, 1]"
      ]
     },
     "execution_count": 2,
     "metadata": {},
     "output_type": "execute_result"
    }
   ],
   "source": [
    "tuples = [(-2, 4), (0, -2), (-1, 0), (3, 5), (-2, -3), (3, 2)]\n",
    "closest(tuples, 2)"
   ]
  },
  {
   "cell_type": "code",
   "execution_count": null,
   "metadata": {},
   "outputs": [],
   "source": []
  }
 ],
 "metadata": {
  "kernelspec": {
   "display_name": "Python 2",
   "language": "python",
   "name": "python2"
  },
  "language_info": {
   "codemirror_mode": {
    "name": "ipython",
    "version": 2
   },
   "file_extension": ".py",
   "mimetype": "text/x-python",
   "name": "python",
   "nbconvert_exporter": "python",
   "pygments_lexer": "ipython2",
   "version": "2.7.6"
  }
 },
 "nbformat": 4,
 "nbformat_minor": 0
}
