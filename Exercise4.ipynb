{
 "cells": [
  {
   "cell_type": "code",
   "execution_count": 1,
   "metadata": {
    "collapsed": true
   },
   "outputs": [],
   "source": [
    "# Given an array of tuples of points, write a function that returns the K closest points to the origin "
   ]
  },
  {
   "cell_type": "code",
   "execution_count": 2,
   "metadata": {},
   "outputs": [],
   "source": [
    "# First thing that comes to mind is to take the absolute value of their sums and return the smallest ones\n",
    "\n",
    "\n",
    "def closest(points, k):\n",
    "    d = {}\n",
    "    smallest = []\n",
    "    output = []\n",
    "    \n",
    "    for i in range(len(points)):\n",
    "        smallest.append((points[i][0] ** 2) + (points[i][1] ** 2))  # Distance from center\n",
    "        d.update({smallest[i]: i})  # Store distance and position in a dictionary \n",
    "        \n",
    "    smallest.sort()\n",
    "    for i in range(k):\n",
    "        output.append(d[smallest[i]])  # Return the position of the K smallest elements\n",
    "    return output\n",
    "\n",
    "\n",
    "# Time complexity is O(n log n) since that's the usually the time it takes to sort a list\n",
    "# and we only go through the array once\n"
   ]
  },
  {
   "cell_type": "code",
   "execution_count": 3,
   "metadata": {
    "collapsed": false
   },
   "outputs": [
    {
     "data": {
      "text/plain": [
       "[2, 1]"
      ]
     },
     "execution_count": 3,
     "metadata": {},
     "output_type": "execute_result"
    }
   ],
   "source": [
    "tuples = [(-2, 4), (0, -2), (-1, 0), (3, 5), (-2, -3), (3, 2)]\n",
    "closest(tuples, 2)"
   ]
  },
  {
   "cell_type": "code",
   "execution_count": 23,
   "metadata": {},
   "outputs": [],
   "source": [
    "# We can implement a min heap to getter better performance rather than using python's default sort \n",
    "# Let's do it using an array structure of size k to try to get the best performance possible\n",
    "import numpy as np\n",
    "\n",
    "\n",
    "class MyMinHeap:\n",
    "    def __init__(self, capacity):\n",
    "        self.capacity = capacity\n",
    "        self.size = 0 \n",
    "        self.items = np.empty(capacity)\n",
    "    \n",
    "    @staticmethod\n",
    "    def get_left_index(parent_index):\n",
    "        return 2 * parent_index + 1\n",
    "    \n",
    "    @staticmethod\n",
    "    def get_right_index(parent_index):\n",
    "        return 2 * parent_index + 2\n",
    "    \n",
    "    @staticmethod\n",
    "    def get_parent_index(child_index):\n",
    "        return (child_index - 1) / 2\n",
    "    \n",
    "    def has_left(self, index):\n",
    "        return self.get_left_index(index) < self.size\n",
    "    \n",
    "    def has_right(self, index):\n",
    "        return self.get_right_index(index) < self.size\n",
    "    \n",
    "    def has_parent(self, index):\n",
    "        return self.get_parent_index(index) >= 0\n",
    "    \n",
    "    def left_child(self, index):\n",
    "        return self.items[self.get_left_index(index)]\n",
    "    \n",
    "    def right_child(self, index):\n",
    "        return self.items[self.get_right_index(index)]\n",
    "    \n",
    "    def parent(self, index):\n",
    "        return self.items[self.get_parent_index(index)]\n",
    "    \n",
    "    def add(self, item):\n",
    "        if self.size < self.capacity:\n",
    "            self.items[self.size] = item\n",
    "            self.size += 1\n",
    "            self.heapify_up()\n",
    "        elif self.items[self.capacity - 1] > item:\n",
    "            self.items[self.capacity - 1] = item\n",
    "            self.heapify_down()\n",
    "            \n",
    "    def swap(self, index_one, index_two):\n",
    "        temp = self.items[index_one]\n",
    "        self.items[index_one] = self.items[index_two]\n",
    "        self.items[index_two] = temp\n",
    "        \n",
    "    def heapify_up(self):\n",
    "        index = self.size - 1\n",
    "        while self.has_parent(index) and self.parent(index) > self.items[index]:\n",
    "            self.swap(self.get_parent_index(index), index)\n",
    "            index = self.get_parent_index(index) \n",
    "            \n",
    "    def heapify_down(self):\n",
    "        index = 0\n",
    "        while self.has_left(index):\n",
    "            smaller_child_index = self.get_left_index(index)\n",
    "            if self.has_right(index) and self.right_child(index) < self.left_child(index):\n",
    "                smaller_child_index = self.get_right_index(index)\n",
    "            \n",
    "            if self.items[index] < self.items[smaller_child_index]:\n",
    "                break\n",
    "            else:\n",
    "                self.swap(index, smaller_child_index)\n",
    "            index = smaller_child_index\n",
    "                \n",
    "    def get_heap(self):\n",
    "        return self.items       \n"
   ]
  },
  {
   "cell_type": "code",
   "execution_count": 28,
   "metadata": {},
   "outputs": [],
   "source": [
    "def closest(points, k):\n",
    "    smallest = MyMinHeap(k)\n",
    "    d = {}\n",
    "    output = []\n",
    "    for i in range(len(points)):\n",
    "        smallest.add((points[i][0] ** 2) + (points[i][1] ** 2))  # Distance from center\n",
    "        \n",
    "        d.update({(points[i][0] ** 2) + (points[i][1] ** 2): i})  # Store distance and position in a dictionary \n",
    "    arr = smallest.get_heap()\n",
    "    for i in range(k):\n",
    "        output.append(d[arr[i]])  # Return the position of the K smallest elements\n",
    "    return output\n",
    "\n",
    "\n",
    "#  This should have O(n + (n - k) * log(k)), and far small enough ks it should simplify to O(n)"
   ]
  },
  {
   "cell_type": "code",
   "execution_count": 29,
   "metadata": {
    "collapsed": false
   },
   "outputs": [
    {
     "name": "stderr",
     "output_type": "stream",
     "text": [
      "C:\\Users\\Alexandre\\Anaconda3\\lib\\site-packages\\ipykernel_launcher.py:40: VisibleDeprecationWarning: using a non-integer number instead of an integer will result in an error in the future\nC:\\Users\\Alexandre\\Anaconda3\\lib\\site-packages\\ipykernel_launcher.py:52: VisibleDeprecationWarning: using a non-integer number instead of an integer will result in an error in the future\nC:\\Users\\Alexandre\\Anaconda3\\lib\\site-packages\\ipykernel_launcher.py:53: VisibleDeprecationWarning: using a non-integer number instead of an integer will result in an error in the future\n"
     ]
    },
    {
     "data": {
      "text/plain": [
       "[2, 1]"
      ]
     },
     "execution_count": 29,
     "metadata": {},
     "output_type": "execute_result"
    }
   ],
   "source": [
    "tuples = [(-2, 4), (0, -2), (-1, 0), (3, 5), (-2, -3), (3, 2)]\n",
    "closest(tuples, 2)"
   ]
  },
  {
   "cell_type": "code",
   "execution_count": 30,
   "metadata": {},
   "outputs": [],
   "source": []
  },
  {
   "cell_type": "code",
   "execution_count": null,
   "metadata": {},
   "outputs": [],
   "source": []
  }
 ],
 "metadata": {
  "kernelspec": {
   "display_name": "Python 2",
   "language": "python",
   "name": "python2"
  },
  "language_info": {
   "codemirror_mode": {
    "name": "ipython",
    "version": 2
   },
   "file_extension": ".py",
   "mimetype": "text/x-python",
   "name": "python",
   "nbconvert_exporter": "python",
   "pygments_lexer": "ipython2",
   "version": "2.7.6"
  }
 },
 "nbformat": 4,
 "nbformat_minor": 0
}
