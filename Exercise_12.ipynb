{
 "cells": [
  {
   "cell_type": "code",
   "execution_count": 2,
   "metadata": {
    "collapsed": true
   },
   "outputs": [],
   "source": [
    "# The area of a circle is defined as πr^2. Estimate π to 3 decimal places using a Monte Carlo method.\n",
    "# \n",
    "# Hint: The basic equation of a circle is x2 + y2 = r2.\n",
    "import random\n",
    "\n",
    "\n",
    "random.seed = 0"
   ]
  },
  {
   "cell_type": "code",
   "execution_count": 3,
   "metadata": {
    "collapsed": true
   },
   "outputs": [],
   "source": [
    "# To start, lets create a generator that selects two uniformly random numbers between 0 and 1\n",
    "def estimate_generator():\n",
    "    while True:\n",
    "        x = random.uniform(0, 1)\n",
    "        y = random.uniform(0, 1)\n",
    "        if x ** 2 + y ** 2 <= 1:\n",
    "            yield 1\n",
    "        else: \n",
    "            yield 0\n",
    "            \n",
    "            \n",
    "# Then we keep generating points inside the range and checking the proportion of points that fall \n",
    "# within the upper right partition of a unit circle and multiply that proportion by 4 to account for the\n",
    "# full circle. \n",
    "# Eventually, the number of points that fall inside the circle should converge to the value of pi, \n",
    "# since the radius of the unit circle is 1 and its area is  pi * r^2 = pi * 1^2 = pi\n",
    "\n",
    "def estimate_pi():\n",
    "    generator = estimate_generator()\n",
    "    inside_circle = 0\n",
    "    total_tries = 0\n",
    "    while (inside_circle / (total_tries + 1)) * 4 != 3.141:  \n",
    "        inside_circle += next(generator)\n",
    "        total_tries += 1\n",
    "    print(f\"{(inside_circle / total_tries) * 4:.3f}, number of tries: {total_tries}, \"\n",
    "          f\"points inside circle: {inside_circle}\")\n"
   ]
  },
  {
   "cell_type": "code",
   "execution_count": 4,
   "metadata": {},
   "outputs": [
    {
     "name": "stdout",
     "output_type": "stream",
     "text": [
      "3.141, number of tries: 1663999, points inside circle: 1306656\n"
     ]
    }
   ],
   "source": [
    "estimate_pi()\n"
   ]
  },
  {
   "cell_type": "code",
   "execution_count": null,
   "metadata": {},
   "outputs": [],
   "source": [
    "\n"
   ]
  }
 ],
 "metadata": {
  "kernelspec": {
   "display_name": "Python 2",
   "language": "python",
   "name": "python2"
  },
  "language_info": {
   "codemirror_mode": {
    "name": "ipython",
    "version": 2
   },
   "file_extension": ".py",
   "mimetype": "text/x-python",
   "name": "python",
   "nbconvert_exporter": "python",
   "pygments_lexer": "ipython2",
   "version": "2.7.6"
  }
 },
 "nbformat": 4,
 "nbformat_minor": 0
}
