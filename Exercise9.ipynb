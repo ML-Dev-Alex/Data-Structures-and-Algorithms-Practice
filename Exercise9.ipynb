{
 "cells": [
  {
   "cell_type": "code",
   "execution_count": 1,
   "metadata": {
    "collapsed": true
   },
   "outputs": [],
   "source": [
    "# Given the root to a binary tree, implement serialize(root),\n",
    "# which serializes the tree into a string, and deserialize(s),\n",
    "# which deserializes the string back into the tree.\n",
    "# \n",
    "# For example, given the following Node class\n",
    "\n",
    "\n",
    "class Node:\n",
    "    def __init__(self, val, left=None, right=None):\n",
    "        self.val = val\n",
    "        self.left = left\n",
    "        self.right = right\n",
    "        \n",
    "# The following test should pass:\n",
    "# \n",
    "# node = Node('root', Node('left', Node('left.left')), Node('right'))\n",
    "# assert deserialize(serialize(node)).left.left.val == 'left.left'"
   ]
  },
  {
   "cell_type": "code",
   "execution_count": 2,
   "metadata": {},
   "outputs": [],
   "source": [
    "# All right, lets begin by doing the serialization first\n",
    "\n",
    "\n",
    "def serialize(root):\n",
    "    arr = []\n",
    "    return recursive(root, arr, 0)\n",
    "\n",
    "\n",
    "def recursive(node, arr, idx):\n",
    "    arr.append(node.val)  \n",
    "    idx += 1\n",
    "    s = (str(node.val))  \n",
    "    if node.left is not None:  \n",
    "        s += \" \" \n",
    "        s += recursive(node.left, arr, idx)\n",
    "    if node.right is not None:\n",
    "        s += \" \"\n",
    "        s += recursive(node.right, arr, idx)\n",
    "    return s\n"
   ]
  },
  {
   "cell_type": "code",
   "execution_count": 3,
   "metadata": {},
   "outputs": [
    {
     "name": "stdout",
     "output_type": "stream",
     "text": [
      "root left left.left right\n"
     ]
    }
   ],
   "source": [
    "node = Node('root', Node('left', Node('left.left')), Node('right'))\n",
    "print(serialize(node))\n"
   ]
  },
  {
   "cell_type": "code",
   "execution_count": 4,
   "metadata": {},
   "outputs": [
    {
     "name": "stdout",
     "output_type": "stream",
     "text": [
      "True\n"
     ]
    }
   ],
   "source": [
    "def deserialize(s):\n",
    "    s = s.split(' ')\n",
    "    return recursive2(s)\n",
    "\n",
    "\n",
    "def recursive2(s):\n",
    "    if len(s) >= 3:  \n",
    "        node = Node(s[0], recursive2(s[1:]), recursive2(s[2:]))  \n",
    "    elif len(s) == 2:  \n",
    "        node = Node(s[0], recursive2(s[1:]))  \n",
    "    else:\n",
    "        node = Node(s[0])\n",
    "    return node"
   ]
  },
  {
   "cell_type": "code",
   "execution_count": 5,
   "metadata": {},
   "outputs": [
    {
     "name": "stdout",
     "output_type": "stream",
     "text": [
      "True\n"
     ]
    }
   ],
   "source": [
    "assert deserialize(serialize(node)).left.left.val == 'left.left'\n",
    "print(True)"
   ]
  },
  {
   "cell_type": "code",
   "execution_count": null,
   "metadata": {},
   "outputs": [],
   "source": []
  }
 ],
 "metadata": {
  "kernelspec": {
   "display_name": "Python 2",
   "language": "python",
   "name": "python2"
  },
  "language_info": {
   "codemirror_mode": {
    "name": "ipython",
    "version": 2
   },
   "file_extension": ".py",
   "mimetype": "text/x-python",
   "name": "python",
   "nbconvert_exporter": "python",
   "pygments_lexer": "ipython2",
   "version": "2.7.6"
  }
 },
 "nbformat": 4,
 "nbformat_minor": 0
}
