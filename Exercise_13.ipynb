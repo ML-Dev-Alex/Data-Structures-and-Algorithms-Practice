{
 "cells": [
  {
   "cell_type": "code",
   "execution_count": 1,
   "metadata": {
    "collapsed": true
   },
   "outputs": [],
   "source": [
    "# You run an e-commerce website and want to record the last N order ids in a log.\n",
    "# Implement a data structure to accomplish this, with the following API:\n",
    "# \n",
    "# record(order_id): adds the order_id to the log\n",
    "# get_last(i): gets the ith last element from the log. i is guaranteed to be smaller than or equal to N.\n",
    "# You should be as efficient with time and space as possible.\n",
    "import numpy as np"
   ]
  },
  {
   "cell_type": "code",
   "execution_count": 2,
   "metadata": {},
   "outputs": [],
   "source": [
    "class Orders:\n",
    "    __slots__ = ['max_size', 'log', 'start']  # makes it so these are the only types that can be stored\n",
    "    # by this class, saving memory as we know we don't need to dynamically allocate more space.\n",
    "    # This is even more memory efficient than some simple data structures, such as python tuples. \n",
    "    \n",
    "    def __init__(self, max_size):\n",
    "        self.max_size = max_size\n",
    "        self.log = np.empty(max_size)  # Numpy arrays have O(1) access time \n",
    "        self.start = 0\n",
    "\n",
    "    def record(self, order_id):  \n",
    "        # Change the \"start\" of the array by -1 and put the new entry there\n",
    "        self.start = self.start - 1 if self.start != 0 else self.max_size - 1\n",
    "        self.log[self.start] = order_id\n",
    "\n",
    "    def get_last(self, i):  \n",
    "        # Go from the start until we reach the end of the array, than go back to 0 and keep going\n",
    "        # until we arrive at the correct location Ith places before the start\n",
    "        return self.log[  \n",
    "            self.start + i if self.start + i < self.max_size else (self.start + i) - self.max_size\n",
    "        ]  "
   ]
  },
  {
   "cell_type": "code",
   "execution_count": 3,
   "metadata": {},
   "outputs": [],
   "source": [
    "orders = Orders(10) "
   ]
  },
  {
   "cell_type": "code",
   "execution_count": 4,
   "metadata": {},
   "outputs": [],
   "source": [
    "for i in range(10):\n",
    "    orders.record(i)"
   ]
  },
  {
   "cell_type": "code",
   "execution_count": 5,
   "metadata": {},
   "outputs": [
    {
     "name": "stdout",
     "output_type": "stream",
     "text": [
      "9.0,\n8.0,\n7.0,\n6.0,\n5.0,\n4.0,\n3.0,\n2.0,\n1.0,\n0.0,\n"
     ]
    }
   ],
   "source": [
    "for i in range(10):\n",
    "    print(f\"{orders.get_last(i)},\")"
   ]
  },
  {
   "cell_type": "code",
   "execution_count": 6,
   "metadata": {},
   "outputs": [
    {
     "name": "stdout",
     "output_type": "stream",
     "text": [
      "55.0\n"
     ]
    }
   ],
   "source": [
    "orders.record(55)\n",
    "print(orders.get_last(0))"
   ]
  },
  {
   "cell_type": "code",
   "execution_count": 7,
   "metadata": {},
   "outputs": [
    {
     "name": "stdout",
     "output_type": "stream",
     "text": [
      "55.0,\n9.0,\n8.0,\n7.0,\n6.0,\n5.0,\n4.0,\n3.0,\n2.0,\n1.0,\n"
     ]
    }
   ],
   "source": [
    "for i in range(10):\n",
    "    print(f\"{orders.get_last(i)},\")"
   ]
  },
  {
   "cell_type": "code",
   "execution_count": null,
   "metadata": {},
   "outputs": [],
   "source": []
  }
 ],
 "metadata": {
  "kernelspec": {
   "display_name": "Python 2",
   "language": "python",
   "name": "python2"
  },
  "language_info": {
   "codemirror_mode": {
    "name": "ipython",
    "version": 2
   },
   "file_extension": ".py",
   "mimetype": "text/x-python",
   "name": "python",
   "nbconvert_exporter": "python",
   "pygments_lexer": "ipython2",
   "version": "2.7.6"
  }
 },
 "nbformat": 4,
 "nbformat_minor": 0
}
