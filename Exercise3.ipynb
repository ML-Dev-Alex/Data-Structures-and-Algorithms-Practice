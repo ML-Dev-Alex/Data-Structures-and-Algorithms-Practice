{
 "cells": [
  {
   "cell_type": "code",
   "execution_count": 1,
   "metadata": {
    "collapsed": true
   },
   "outputs": [],
   "source": [
    "# Each letter of the alphabet can be represented by a number eg: 'a' = 1, 'b' = 2, 'c' = 3... \n",
    "# Create a function that returns the number of ways any number can be decoded using this mapping\n",
    "# Eg: data = 12. 12 could be created with the mapping \"ab\" or the mapping \"l\"\n",
    "\n",
    "# I'll just assume all inputs are sequences of ints between 1 and 9,\n",
    "# as it is simple enough to create edge-case detectors"
   ]
  },
  {
   "cell_type": "code",
   "execution_count": 68,
   "metadata": {},
   "outputs": [],
   "source": [
    "# 26 is the biggest number that can be represented by only one letter.\n",
    "# Any two digit number can be represented by two letters\n",
    "# The order of the letters matters, so any number less than 26 can only be represented by either 1 or 2 letters.\n",
    "# 27 can only be represented by two letters, therefore any pair of digits that is bigger than 26 only gives us\n",
    "# 1 more way.\n",
    "# Every digit can pair with digits on either sides of it.\n",
    "\n",
    "\n",
    "# Returns -1 as error code\n",
    "def ways(data):\n",
    "    if len(data) % 2 == 0:\n",
    "        count = 0\n",
    "    else:\n",
    "        count = -1  # data arrays of odd size have 1 less space for possible pairs\n",
    "\n",
    "    if len(data) == 0:\n",
    "        return -1\n",
    "    if len(data) == 1:  # Only one way to encode a single digit\n",
    "        return 1\n",
    "        \n",
    "    for i in range(len(data)):\n",
    "        if data[i] <= 0:\n",
    "            return -1\n",
    "        \n",
    "        if i != 0:  \n",
    "            if data[i] + data[i-1] * 10 <= 26:  # *10 Because we want to concatenate the decimals, not add \n",
    "                count += 2\n",
    "            else:\n",
    "                count += 1\n",
    "    return count\n",
    "\n",
    "# This has O(n) as we only go through the list of numbers once"
   ]
  },
  {
   "cell_type": "code",
   "execution_count": 69,
   "metadata": {
    "collapsed": false
   },
   "outputs": [
    {
     "name": "stdout",
     "output_type": "stream",
     "text": [
      "2 1 3 2 4 6\n"
     ]
    }
   ],
   "source": [
    "arr = [1, 2]  # ab, l\n",
    "arr2 = [2, 7]  # bg\n",
    "arr3 = [1, 2, 3]  # abc, lc, aw\n",
    "arr4 = [1, 2, 7]  # abg, lg, \n",
    "arr5 = [1, 2, 7, 7]  # abgg, lgg\n",
    "arr6 = [1, 2, 1, 3]  # abac, lac, auc, abm, lm, abm\n",
    "print(ways(arr), ways(arr2), ways(arr3), ways(arr4), ways(arr5), ways(arr6)) "
   ]
  },
  {
   "cell_type": "code",
   "execution_count": null,
   "metadata": {},
   "outputs": [],
   "source": []
  }
 ],
 "metadata": {
  "kernelspec": {
   "display_name": "Python 2",
   "language": "python",
   "name": "python2"
  },
  "language_info": {
   "codemirror_mode": {
    "name": "ipython",
    "version": 2
   },
   "file_extension": ".py",
   "mimetype": "text/x-python",
   "name": "python",
   "nbconvert_exporter": "python",
   "pygments_lexer": "ipython2",
   "version": "2.7.6"
  }
 },
 "nbformat": 4,
 "nbformat_minor": 0
}
