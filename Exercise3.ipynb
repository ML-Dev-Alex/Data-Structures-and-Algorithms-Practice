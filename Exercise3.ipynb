{
 "cells": [
  {
   "cell_type": "code",
   "execution_count": 1,
   "metadata": {
    "collapsed": true
   },
   "outputs": [],
   "source": [
    "# Each letter of the alphabet can be represented by a number eg: 'a' = 1, 'b' = 2, 'c' = 3... \n",
    "# Create a function that returns the number of ways any number can be decoded using this mapping\n",
    "# Eg: data = 12. 12 could be created with the mapping \"ab\" or the mapping \"l\"\n",
    "\n",
    "# I'll just assume all inputs are sequences of ints between 1 and 9,\n",
    "# as it is simple enough to create edge-case detectors"
   ]
  },
  {
   "cell_type": "code",
   "execution_count": 31,
   "metadata": {},
   "outputs": [],
   "source": [
    "# 26 is the biggest number that can be represented by only one letter.\n",
    "# Any two digit number can be represented by two letters\n",
    "# The order of the letters matters, so any number less than 26 can only be represented by either 1 or 2 letters.\n",
    "# 27 can only be represented by two letters, therefore any pair of digits that is bigger than 26 only gives us\n",
    "# 1 more way.\n",
    "# Every digit can pair with digits on either sides of it.\n",
    "# Every couple of pairs forms a new possibility by itself \n",
    "\n",
    "\n",
    "def ways(data):\n",
    "    memory = [None] * (len(data) + 1) # Create an external memory array for better time efficiency \n",
    "    return recursive(data, len(data), memory)\n",
    "    \n",
    "    \n",
    "def recursive(data, iterations_left, memory):\n",
    "    if iterations_left == 0:\n",
    "        return 1  # End loop and add 1 to the count if there are no more digits\n",
    "    \n",
    "    current_start = len(data) - iterations_left\n",
    "    \n",
    "    if memory[iterations_left] is not None:\n",
    "        return memory[iterations_left]  # No need to repeat calculations on values already analyzed\n",
    "    \n",
    "    combinations = recursive(data, iterations_left - 1, memory)  # Reduce the size of the next array by 1\n",
    "    # and add 1 more combination possibility\n",
    "    \n",
    "    if iterations_left >= 2 and data[current_start] * 10 + data[current_start + 1] <= 26:\n",
    "        # If the array still has at least two digits in it, check whether they can be represented in more than\n",
    "        # one way, then start another \"thread\" with the other possible combination \n",
    "        combinations += recursive(data, iterations_left - 2, memory)\n",
    "        \n",
    "    memory[iterations_left] = combinations  # Save current number of combinations for efficiency when other\n",
    "    # threads have to check the number of combinations of an array with this many iterations left again\n",
    "    return combinations\n",
    "        \n",
    "\n",
    "# This has O(n) as we keep reducing the size of the array we need to check, while saving results of previous\n",
    "# combinations, such that we don't need to re-do the computations for the rest of the array when checking both\n",
    "# permutations of each possible combination"
   ]
  },
  {
   "cell_type": "code",
   "execution_count": 32,
   "metadata": {
    "collapsed": false
   },
   "outputs": [
    {
     "name": "stdout",
     "output_type": "stream",
     "text": [
      "2 1 3 2 2 5\n"
     ]
    }
   ],
   "source": [
    "arr = [1, 2]  # ab, l\n",
    "arr2 = [2, 7]  # bg\n",
    "arr3 = [1, 2, 3]  # abc, lc, aw\n",
    "arr4 = [1, 2, 7]  # abg, lg \n",
    "arr5 = [1, 2, 7, 7]  # abgg, lgg\n",
    "arr6 = [1, 2, 1, 3]  # abac, auc, abm, lm, lac, \n",
    "print(ways(arr), ways(arr2), ways(arr3), ways(arr4), ways(arr5), ways(arr6)) "
   ]
  },
  {
   "cell_type": "code",
   "execution_count": null,
   "metadata": {},
   "outputs": [],
   "source": []
  }
 ],
 "metadata": {
  "kernelspec": {
   "display_name": "Python 2",
   "language": "python",
   "name": "python2"
  },
  "language_info": {
   "codemirror_mode": {
    "name": "ipython",
    "version": 2
   },
   "file_extension": ".py",
   "mimetype": "text/x-python",
   "name": "python",
   "nbconvert_exporter": "python",
   "pygments_lexer": "ipython2",
   "version": "2.7.6"
  }
 },
 "nbformat": 4,
 "nbformat_minor": 0
}
