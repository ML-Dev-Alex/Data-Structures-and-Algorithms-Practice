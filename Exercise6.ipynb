{
 "cells": [
  {
   "cell_type": "code",
   "execution_count": 1,
   "metadata": {
    "collapsed": true
   },
   "outputs": [
    {
     "data": {
      "text/plain": [
       "matrix([[-3, -2, -1,  1],\n        [-2,  2,  3,  4],\n        [ 4,  5,  7,  8]])"
      ]
     },
     "execution_count": 1,
     "metadata": {},
     "output_type": "execute_result"
    }
   ],
   "source": [
    "# Find the number of negative integers in a row-wise / column-wise sorted matrix\n",
    "import numpy as np\n",
    "\n",
    "m = np.matrix([[-3, -2, -1, 1], [-2, 2, 3, 4],  [4, 5, 7, 8]])\n",
    "m"
   ]
  },
  {
   "cell_type": "code",
   "execution_count": 2,
   "metadata": {},
   "outputs": [],
   "source": [
    "# Since the matrix is already sorted column wise and row wise only need to keep checking until we hit the\n",
    "# first non-negative number on each row or column, but doing each separately would be inefficient, as we\n",
    "# would check entries that should be already discarded by the first pass through on the second one...\n",
    "# But lets implement it anyway to see if we can find a better solution along the way:\n",
    "\n",
    "\n",
    "def negatives(matrix):\n",
    "    count = 0\n",
    "    last_j = 0\n",
    "    for i in range(matrix.shape[0]):\n",
    "        for j in range(matrix.shape[1]):\n",
    "            if matrix[i, j] < 0:\n",
    "                count += 1\n",
    "            else:\n",
    "                if last_j != j:\n",
    "                    j = matrix.shape[1]\n",
    "            last_j = j \n",
    "    return count\n",
    "\n",
    "# This should be O(n) and Ω(i), as we only go through each element of the matrix once.\n",
    "# The Ω(i) can still be improved, as we are only using the fact that the rows of the matrix\n",
    "# are sorted, but not the columns."
   ]
  },
  {
   "cell_type": "code",
   "execution_count": 3,
   "metadata": {},
   "outputs": [
    {
     "data": {
      "text/plain": [
       "4"
      ]
     },
     "execution_count": 3,
     "metadata": {},
     "output_type": "execute_result"
    }
   ],
   "source": [
    "negatives(m)"
   ]
  },
  {
   "cell_type": "code",
   "execution_count": 4,
   "metadata": {},
   "outputs": [],
   "source": [
    "# To account for both row and column sorting we can't traverse through the matrix normally, row per row,\n",
    "# We need to travel \"diagonally\" checking the \"right\" and \"bottom\" nodes \n",
    "\n",
    "\n",
    "def negatives2(matrix):\n",
    "    d = {(0, 0): 0}  # Create a dictionary to archive nodes that have already been visited\n",
    "    result = recursive(0, 0, matrix, d)  \n",
    "    return result\n",
    "\n",
    "\n",
    "def recursive(i, j, matrix, d):\n",
    "    count = 0\n",
    "    if matrix[i, j] >= 0:\n",
    "        return count  # If positive end chain and don't add to the count\n",
    "    else:\n",
    "        count += 1  # Otherwise add 1 to the negative number count\n",
    "        if i == matrix.shape[0] or j == matrix.shape[1]:\n",
    "            return count  # If its the last node on either row or column end chain \n",
    "        if (i + 1, j) not in d:  # Otherwise check if the next row node is already accounted for\n",
    "            d.update({(i + 1, j): count})  \n",
    "            count += recursive(i + 1, j, matrix, d)  # And if it isn't continue the chain trough that row\n",
    "        if (i, j + 1) not in d:  # Do the same for the column\n",
    "            d.update({(i, j + 1): count})\n",
    "            count += recursive(i, j + 1, matrix, d)\n",
    "    return count\n",
    "    \n",
    "#  Now this should have O(n) and Ω(1), as we check only what is absolutely needed in each row/column"
   ]
  },
  {
   "cell_type": "code",
   "execution_count": 5,
   "metadata": {},
   "outputs": [
    {
     "data": {
      "text/plain": [
       "4"
      ]
     },
     "execution_count": 5,
     "metadata": {},
     "output_type": "execute_result"
    }
   ],
   "source": [
    "negatives2(m)"
   ]
  },
  {
   "cell_type": "code",
   "execution_count": 6,
   "metadata": {},
   "outputs": [
    {
     "data": {
      "text/plain": [
       "matrix([[-3, -2, -2,  3],\n        [-1, -1,  3,  4],\n        [ 4,  5,  7,  8]])"
      ]
     },
     "execution_count": 6,
     "metadata": {},
     "output_type": "execute_result"
    }
   ],
   "source": [
    "m2 = np.matrix([[-3, -2, -2, 3], [-1, -1, 3, 4],  [4, 5, 7, 8]])\n",
    "m2"
   ]
  },
  {
   "cell_type": "code",
   "execution_count": 7,
   "metadata": {},
   "outputs": [
    {
     "data": {
      "text/plain": [
       "5"
      ]
     },
     "execution_count": 7,
     "metadata": {},
     "output_type": "execute_result"
    }
   ],
   "source": [
    "negatives2(m2)"
   ]
  },
  {
   "cell_type": "code",
   "execution_count": 8,
   "metadata": {},
   "outputs": [
    {
     "data": {
      "text/plain": [
       "matrix([[1, 2, 2, 3],\n        [1, 1, 3, 4],\n        [4, 5, 7, 8]])"
      ]
     },
     "execution_count": 8,
     "metadata": {},
     "output_type": "execute_result"
    }
   ],
   "source": [
    "m3 = np.matrix([[1, 2, 2, 3], [1, 1, 3, 4],  [4, 5, 7, 8]])\n",
    "m3"
   ]
  },
  {
   "cell_type": "code",
   "execution_count": 9,
   "metadata": {},
   "outputs": [
    {
     "data": {
      "text/plain": [
       "0"
      ]
     },
     "execution_count": 9,
     "metadata": {},
     "output_type": "execute_result"
    }
   ],
   "source": [
    "negatives2(m3)"
   ]
  },
  {
   "cell_type": "code",
   "execution_count": null,
   "metadata": {},
   "outputs": [],
   "source": []
  }
 ],
 "metadata": {
  "kernelspec": {
   "display_name": "Python 2",
   "language": "python",
   "name": "python2"
  },
  "language_info": {
   "codemirror_mode": {
    "name": "ipython",
    "version": 2
   },
   "file_extension": ".py",
   "mimetype": "text/x-python",
   "name": "python",
   "nbconvert_exporter": "python",
   "pygments_lexer": "ipython2",
   "version": "2.7.6"
  }
 },
 "nbformat": 4,
 "nbformat_minor": 0
}
