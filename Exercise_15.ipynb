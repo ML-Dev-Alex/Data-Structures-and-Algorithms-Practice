{
 "cells": [
  {
   "cell_type": "code",
   "execution_count": 1,
   "metadata": {
    "collapsed": true
   },
   "outputs": [],
   "source": [
    "# Given an array of integers and a number k,\n",
    "# where 1 <= k <= length of the array, compute the maximum values of each subarray of length k.\n",
    "# \n",
    "# For example, given array = [10, 5, 2, 7, 8, 7] and k = 3, we should get: [10, 7, 8, 8], since:\n",
    "# \n",
    "# 10 = max(10, 5, 2)\n",
    "# 7 = max(5, 2, 7)\n",
    "# 8 = max(2, 7, 8)\n",
    "# 8 = max(7, 8, 7)\n",
    "# Do this in O(n) time and O(k) space.\n",
    "# You can modify the input array in-place and you do not need to store the results.\n",
    "# You can simply print them out as you compute them.\n",
    "import numpy as np\n",
    "\n",
    "\n",
    "arr = np.array([10, 5, 2, 7, 8, 7])\n",
    "k = 3"
   ]
  },
  {
   "cell_type": "code",
   "execution_count": 2,
   "metadata": {},
   "outputs": [],
   "source": [
    "def sub_array_maxes(sub_length, arr):\n",
    "    sub_array = np.empty(sub_length)\n",
    "    for i, value in enumerate(arr):\n",
    "        sub_array[i % sub_length] = value\n",
    "        if i >= sub_length - 1:\n",
    "            print(f\"The sub array number {i - sub_length + 2} max is {int(np.max(sub_array))}\")"
   ]
  },
  {
   "cell_type": "code",
   "execution_count": 3,
   "metadata": {},
   "outputs": [
    {
     "name": "stdout",
     "output_type": "stream",
     "text": [
      "The sub array number 1 max is 10\nThe sub array number 2 max is 7\nThe sub array number 3 max is 8\nThe sub array number 4 max is 8\n"
     ]
    }
   ],
   "source": [
    "sub_array_maxes(sub_length=k, arr=arr)"
   ]
  },
  {
   "cell_type": "code",
   "execution_count": 54,
   "metadata": {},
   "outputs": [],
   "source": []
  }
 ],
 "metadata": {
  "kernelspec": {
   "display_name": "Python 2",
   "language": "python",
   "name": "python2"
  },
  "language_info": {
   "codemirror_mode": {
    "name": "ipython",
    "version": 2
   },
   "file_extension": ".py",
   "mimetype": "text/x-python",
   "name": "python",
   "nbconvert_exporter": "python",
   "pygments_lexer": "ipython2",
   "version": "2.7.6"
  }
 },
 "nbformat": 4,
 "nbformat_minor": 0
}
