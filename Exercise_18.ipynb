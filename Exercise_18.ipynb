{
 "cells": [
  {
   "cell_type": "code",
   "execution_count": 1,
   "metadata": {
    "collapsed": true
   },
   "outputs": [],
   "source": [
    "# The edit distance between two strings refers to the minimum number of character insertions,\n",
    "# deletions, and substitutions required to change one string to the other. \n",
    "# For example, the edit distance between “kitten” and “sitting” is three:\n",
    "# substitute the “k” for “s”, substitute the “e” for “i”, and append a “g”.\n",
    "# \n",
    "# Given two strings, compute the edit distance between them.\n",
    "s1 = \"kitten\"\n",
    "s2 = \"sitting\"\n",
    "s3 = \"aaaaaaa\"\n",
    "s4 = \"b\""
   ]
  },
  {
   "cell_type": "code",
   "execution_count": 2,
   "metadata": {},
   "outputs": [],
   "source": [
    "# Lets begin by implementing the simplest solution I can think off, then we can think about space-time complexity.\n",
    "def compare_edit_distance(string1, string2):\n",
    "    counter = 0\n",
    "    if len(string1) < len(string2):\n",
    "        string1, string2 = string2, string1  # Special python inplace swap. Makes it so string1 is always >= to string2\n",
    "\n",
    "    for i in range(len(string1)):\n",
    "        if i == len(string2):\n",
    "            counter += len(string1) - len(string2)\n",
    "            break\n",
    "        if string1[i] != string2[i]:\n",
    "            counter += 1\n",
    "            \n",
    "    return counter\n",
    "\n",
    "# This has time complexity of O(n) (n being the size of the smallest string) and space complexity of O(1). \n",
    "# I don't see any way of getting over the fact that we need to make at least one comparison\n",
    "# for each character on one of the strings at least once. "
   ]
  },
  {
   "cell_type": "code",
   "execution_count": 3,
   "metadata": {},
   "outputs": [
    {
     "name": "stdout",
     "output_type": "stream",
     "text": [
      "(kitten, sitting) = 3,\n(aaaaaaa, b) = 7.\n"
     ]
    }
   ],
   "source": [
    "print(f\"({s1}, {s2}) = {compare_edit_distance(s1, s2)},\\n\"\n",
    "      f\"({s3}, {s4}) = {compare_edit_distance(s3, s4)}.\")"
   ]
  },
  {
   "cell_type": "code",
   "execution_count": 18,
   "metadata": {},
   "outputs": [],
   "source": []
  },
  {
   "cell_type": "code",
   "execution_count": null,
   "metadata": {},
   "outputs": [],
   "source": []
  }
 ],
 "metadata": {
  "kernelspec": {
   "display_name": "Python 2",
   "language": "python",
   "name": "python2"
  },
  "language_info": {
   "codemirror_mode": {
    "name": "ipython",
    "version": 2
   },
   "file_extension": ".py",
   "mimetype": "text/x-python",
   "name": "python",
   "nbconvert_exporter": "python",
   "pygments_lexer": "ipython2",
   "version": "2.7.6"
  }
 },
 "nbformat": 4,
 "nbformat_minor": 0
}
