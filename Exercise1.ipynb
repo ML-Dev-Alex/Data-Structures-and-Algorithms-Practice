{
 "cells": [
  {
   "cell_type": "code",
   "execution_count": 12,
   "metadata": {
    "collapsed": true
   },
   "outputs": [],
   "source": [
    "# Given a list of numbers and a number k, return whether any two numbers from the list add up to k\n",
    "# For example, given [10, 15, 3, 7] and a k of 17, return true since 10 + 7 is 17\n",
    "# Bonus can you do this in 1 pass? \n",
    "\n",
    "l = [10, 15, 3, 7]\n",
    "k = 17\n",
    "\n",
    "falseK = 23\n"
   ]
  },
  {
   "cell_type": "code",
   "execution_count": 16,
   "metadata": {
    "collapsed": true
   },
   "outputs": [],
   "source": [
    "# Lets start with the simplest form possible, brute force: \n",
    "def adds(lis, num):\n",
    "    for i in lis:\n",
    "        for j in lis:\n",
    "            if i is not j:\n",
    "                if i + j == num:\n",
    "                    return True    \n",
    "    return False\n",
    "# This has O(n^2) as we compare every item in the list to every other item\n"
   ]
  },
  {
   "cell_type": "code",
   "execution_count": 8,
   "metadata": {
    "collapsed": false
   },
   "outputs": [
    {
     "data": {
      "text/plain": [
       "True"
      ]
     },
     "execution_count": 8,
     "metadata": {},
     "output_type": "execute_result"
    }
   ],
   "source": [
    "adds(l, k)"
   ]
  },
  {
   "cell_type": "code",
   "execution_count": 13,
   "metadata": {},
   "outputs": [
    {
     "data": {
      "text/plain": [
       "False"
      ]
     },
     "execution_count": 13,
     "metadata": {},
     "output_type": "execute_result"
    }
   ],
   "source": [
    "adds(l, falseK)"
   ]
  },
  {
   "cell_type": "code",
   "execution_count": 17,
   "metadata": {},
   "outputs": [],
   "source": [
    "# Now lets try to improve the space time complexity \n",
    "# Rather than comparing the numbers on the list by itself, lets try to compare them to the desired number:\n",
    "# Each item in the list has a specific compliment that would combine with it to reach the desired number.\n",
    "# If we store that compliment number in a data structure with constant lookup time we could simply check\n",
    "# whether the current number is the compliment for a previous number and if it isn't we can store its \n",
    "# compliment with the desired number on the list.\n",
    "\n",
    "def adds2(lis, num):\n",
    "    hash = {} \n",
    "    for i in lis:  \n",
    "        if i in hash:  \n",
    "            return True \n",
    "        else:\n",
    "            hash[num - i] = i  \n",
    "    return False\n",
    "\n",
    "# O(n) as we only need to go through the list once, storing all compliments, and stopping once we find \n",
    "# # either the first number that compliments a previous one or once we reach the end of the list. \n"
   ]
  },
  {
   "cell_type": "code",
   "execution_count": 18,
   "metadata": {
    "collapsed": false
   },
   "outputs": [
    {
     "data": {
      "text/plain": [
       "True"
      ]
     },
     "execution_count": 18,
     "metadata": {},
     "output_type": "execute_result"
    }
   ],
   "source": [
    "adds2(l, k)"
   ]
  },
  {
   "cell_type": "code",
   "execution_count": 19,
   "metadata": {},
   "outputs": [
    {
     "data": {
      "text/plain": [
       "False"
      ]
     },
     "execution_count": 19,
     "metadata": {},
     "output_type": "execute_result"
    }
   ],
   "source": [
    "adds2(l, falseK)"
   ]
  },
  {
   "cell_type": "code",
   "execution_count": null,
   "metadata": {},
   "outputs": [],
   "source": []
  }
 ],
 "metadata": {
  "kernelspec": {
   "display_name": "Python 2",
   "language": "python",
   "name": "python2"
  },
  "language_info": {
   "codemirror_mode": {
    "name": "ipython",
    "version": 2
   },
   "file_extension": ".py",
   "mimetype": "text/x-python",
   "name": "python",
   "nbconvert_exporter": "python",
   "pygments_lexer": "ipython2",
   "version": "2.7.6"
  }
 },
 "nbformat": 4,
 "nbformat_minor": 0
}
