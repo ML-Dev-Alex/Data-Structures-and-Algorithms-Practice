{
 "cells": [
  {
   "cell_type": "code",
   "execution_count": 1,
   "metadata": {
    "collapsed": true
   },
   "outputs": [],
   "source": [
    "# Write a function that takes an array and re-orders it in a random way using rand() and floor()\n",
    "# Bonus: Do it in place and with O(n) time complexity\n",
    "import random\n",
    "import math\n",
    "import numpy as np\n",
    "\n",
    "a1 = np.array([1, 0, 3, 9, 2])\n",
    "a2 = np.array([5, -6, 8, 11, 225, -32, -3])"
   ]
  },
  {
   "cell_type": "code",
   "execution_count": 2,
   "metadata": {},
   "outputs": [],
   "source": [
    "def randomize_array(arr):\n",
    "    for i in range(len(arr)):                        # For each number in the array take a number from 0 to 1\n",
    "        rand = math.floor(random.random()*len(arr))  # and multiply it by the size of the array\n",
    "        arr[i], arr[rand] = arr[rand], arr[i]        # take the floor to get the value for an index and \n",
    "                                                     # then we simply swap current index for that one\n",
    "    \n",
    "# O(n) as we only go through the array once, and we do it in place only using a single temporary variable"
   ]
  },
  {
   "cell_type": "code",
   "execution_count": 3,
   "metadata": {},
   "outputs": [
    {
     "name": "stdout",
     "output_type": "stream",
     "text": [
      "[1 0 3 9 2] ,  [  5  -6   8  11 225 -32  -3]\n\n\n[1 3 0 2 9] ,  [225   8  11   5 -32  -3  -6]\n"
     ]
    }
   ],
   "source": [
    "print(a1, \", \", a2)\n",
    "randomize_array(a1)\n",
    "randomize_array(a2)\n",
    "print(\"\\n\")\n",
    "print(a1, \", \", a2)"
   ]
  },
  {
   "cell_type": "code",
   "execution_count": null,
   "metadata": {},
   "outputs": [],
   "source": []
  }
 ],
 "metadata": {
  "kernelspec": {
   "display_name": "Python 2",
   "language": "python",
   "name": "python2"
  },
  "language_info": {
   "codemirror_mode": {
    "name": "ipython",
    "version": 2
   },
   "file_extension": ".py",
   "mimetype": "text/x-python",
   "name": "python",
   "nbconvert_exporter": "python",
   "pygments_lexer": "ipython2",
   "version": "2.7.6"
  }
 },
 "nbformat": 4,
 "nbformat_minor": 0
}
