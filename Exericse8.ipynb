{
 "cells": [
  {
   "cell_type": "code",
   "execution_count": 1,
   "metadata": {
    "collapsed": true
   },
   "outputs": [],
   "source": [
    "# Write a function that takes an array and re-orders it in a random way using rand() and floor()\n",
    "# Bonus: Do it in place and with O(n) time complexity\n",
    "import random\n",
    "import math\n",
    "import numpy as np\n",
    "\n",
    "a1 = np.array([1, 0, 3, 9, 2])\n",
    "a2 = np.array([5, -6, 8, 11, 225, -32, -3])"
   ]
  },
  {
   "cell_type": "code",
   "execution_count": 2,
   "metadata": {},
   "outputs": [],
   "source": [
    "def randomize_array(arr):\n",
    "    for i in range(len(arr)):                        # for each number in the array\n",
    "        rand = math.floor(random.random()*len(arr))  # take a number from 0 to 1\n",
    "        temp = arr[i]                                # multiply it by the size of the array\n",
    "        arr[i] = arr[rand]                           # take the floor to get the value for an index\n",
    "        arr[rand] = temp                             # then we simply swap current index for that one\n",
    "    \n",
    "# O(n) as we only go through the array once, and we do it in place only using a single temporary variable"
   ]
  },
  {
   "cell_type": "code",
   "execution_count": 3,
   "metadata": {},
   "outputs": [
    {
     "name": "stdout",
     "output_type": "stream",
     "text": [
      "[1 0 3 9 2] ,  [  5  -6   8  11 225 -32  -3]\n\n\n[9 3 2 1 0] ,  [ -6   8 225  11  -3   5 -32]\n"
     ]
    }
   ],
   "source": [
    "print(a1, \", \", a2)\n",
    "randomize_array(a1)\n",
    "randomize_array(a2)\n",
    "print(\"\\n\")\n",
    "print(a1, \", \", a2)"
   ]
  },
  {
   "cell_type": "code",
   "execution_count": null,
   "metadata": {},
   "outputs": [],
   "source": []
  }
 ],
 "metadata": {
  "kernelspec": {
   "display_name": "Python 2",
   "language": "python",
   "name": "python2"
  },
  "language_info": {
   "codemirror_mode": {
    "name": "ipython",
    "version": 2
   },
   "file_extension": ".py",
   "mimetype": "text/x-python",
   "name": "python",
   "nbconvert_exporter": "python",
   "pygments_lexer": "ipython2",
   "version": "2.7.6"
  }
 },
 "nbformat": 4,
 "nbformat_minor": 0
}
