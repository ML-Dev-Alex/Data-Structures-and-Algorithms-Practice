{
 "cells": [
  {
   "cell_type": "code",
   "execution_count": 1,
   "metadata": {
    "collapsed": true
   },
   "outputs": [],
   "source": [
    "# Create a function, that, given a string, returns the first recurring character\n",
    "s1 = \"abca\"  # Should return a\n",
    "s2 = \"bcaba\"  # Should return b\n",
    "s3 = \"abc\"  # Should return None"
   ]
  },
  {
   "cell_type": "code",
   "execution_count": 2,
   "metadata": {},
   "outputs": [],
   "source": [
    "# This is simple enough, lets try to jump directly into it:\n",
    "\n",
    "\n",
    "def recurring(s):\n",
    "    d = {} \n",
    "    for i in range(len(s)):\n",
    "        if s[i] not in d:\n",
    "            d[s[i]] = s[i]\n",
    "        else:\n",
    "            return s[i]\n",
    "    return None\n",
    "\n",
    "# O(n), as we only go through the str once"
   ]
  },
  {
   "cell_type": "code",
   "execution_count": 3,
   "metadata": {},
   "outputs": [
    {
     "name": "stdout",
     "output_type": "stream",
     "text": [
      "a b None\n"
     ]
    }
   ],
   "source": [
    "print(recurring(s1), recurring(s2), recurring(s3))"
   ]
  },
  {
   "cell_type": "code",
   "execution_count": null,
   "metadata": {},
   "outputs": [],
   "source": []
  }
 ],
 "metadata": {
  "kernelspec": {
   "display_name": "Python 2",
   "language": "python",
   "name": "python2"
  },
  "language_info": {
   "codemirror_mode": {
    "name": "ipython",
    "version": 2
   },
   "file_extension": ".py",
   "mimetype": "text/x-python",
   "name": "python",
   "nbconvert_exporter": "python",
   "pygments_lexer": "ipython2",
   "version": "2.7.6"
  }
 },
 "nbformat": 4,
 "nbformat_minor": 0
}
