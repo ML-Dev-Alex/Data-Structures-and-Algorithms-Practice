{
 "cells": [
  {
   "cell_type": "code",
   "execution_count": 1,
   "metadata": {
    "collapsed": true
   },
   "outputs": [],
   "source": [
    "# Suppose we represent our file system by a string in the following manner:\n",
    "# \n",
    "# The string \"dir\\n\\tsubdir1\\n\\tsubdir2\\n\\t\\tfile.ext\" represents:\n",
    "# \n",
    "# dir\n",
    "#     subdir1\n",
    "#     subdir2\n",
    "#         file.ext\n",
    "# The directory dir contains an empty sub-directory subdir1 and a sub-directory subdir2 containing \n",
    "# a file file.ext.\n",
    "# \n",
    "# The string \"dir\\n\\tsubdir1\\n\\t\\tfile1.ext\\n\\t\\tsubsubdir1\\n\\tsubdir2\\n\\t\\tsubsubdir2\\n\\t\\t\\tfile2.ext\" represents:\n",
    "# \n",
    "# dir\n",
    "#     subdir1\n",
    "#         file1.ext\n",
    "#         subsubdir1\n",
    "#     subdir2\n",
    "#         subsubdir2\n",
    "#             file2.ext\n",
    "# The directory dir contains two sub-directories subdir1 and subdir2. \n",
    "# subdir1 contains a file file1.ext and an empty second-level sub-directory subsubdir1.\n",
    "# subdir2 contains a second-level sub-directory subsubdir2 containing a file file2.ext.\n",
    "# \n",
    "# We are interested in finding the longest (number of characters)\n",
    "# absolute path to a file within our file system. For example,\n",
    "# in the second example above, the longest absolute path is \n",
    "# \"dir/subdir2/subsubdir2/file2.ext\", and its length is 32 (not including the double quotes).\n",
    "# \n",
    "# Given a string representing the file system in the above format,\n",
    "# return the length of the longest absolute path to a file in the abstracted file system.\n",
    "# If there is no file in the system, return 0.\n",
    "# \n",
    "# Note:\n",
    "# \n",
    "# The name of a file contains at least a period and an extension.\n",
    "# \n",
    "# The name of a directory or sub-directory will not contain a period.\n",
    "# \n",
    "string1 = \"dir\\n\\tsubdir1\\n\\tsubdir2\\n\\t\\tfile.ext\"\n",
    "string2 = \"dir\\n\\tsubdir1\\n\\t\\tfile1.ext\\n\\t\\tsubsubdir1\\n\\tsubdir2\\n\\t\\tsubsubdir2\\n\\t\\t\\tfile2.ext\""
   ]
  },
  {
   "cell_type": "code",
   "execution_count": 2,
   "metadata": {},
   "outputs": [],
   "source": [
    "def longest(path):\n",
    "    count = 0\n",
    "    longest_path = 0\n",
    "    found = False\n",
    "    for i, character in enumerate(path):\n",
    "        if found and (i == len(path) - 1 or character is '\\n'):\n",
    "            if longest_path <= count:\n",
    "                longest_path = count + 1\n",
    "            found = False\n",
    "            count = 0\n",
    "        if character is '.':\n",
    "            found = True\n",
    "        count += 1\n",
    "    return longest_path"
   ]
  },
  {
   "cell_type": "code",
   "execution_count": 3,
   "metadata": {
    "collapsed": true
   },
   "outputs": [
    {
     "name": "stdout",
     "output_type": "stream",
     "text": [
      "Path one: 32, \nPath two: 48,\nString no files: 0\n"
     ]
    }
   ],
   "source": [
    "print(f\"Path one: {longest(string1)}, \"\n",
    "      f\"\\nPath two: {longest(string2)},\"\n",
    "      f\"\\nString no files: {longest('no files here')}\")\n"
   ]
  },
  {
   "cell_type": "code",
   "execution_count": 7,
   "metadata": {},
   "outputs": [],
   "source": []
  },
  {
   "cell_type": "code",
   "execution_count": null,
   "metadata": {},
   "outputs": [],
   "source": []
  }
 ],
 "metadata": {
  "kernelspec": {
   "display_name": "Python 2",
   "language": "python",
   "name": "python2"
  },
  "language_info": {
   "codemirror_mode": {
    "name": "ipython",
    "version": 2
   },
   "file_extension": ".py",
   "mimetype": "text/x-python",
   "name": "python",
   "nbconvert_exporter": "python",
   "pygments_lexer": "ipython2",
   "version": "2.7.6"
  }
 },
 "nbformat": 4,
 "nbformat_minor": 0
}
