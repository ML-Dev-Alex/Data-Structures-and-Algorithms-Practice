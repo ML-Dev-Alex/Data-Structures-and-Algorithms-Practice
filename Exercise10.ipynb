{
 "cells": [
  {
   "cell_type": "code",
   "execution_count": 1,
   "metadata": {
    "collapsed": true
   },
   "outputs": [],
   "source": [
    "# Calculate the N'th fibonacci number:\n",
    "# F_1 = F_2 = 1\n",
    "# F_n = F_n-1 + F_n-2"
   ]
  },
  {
   "cell_type": "code",
   "execution_count": 2,
   "metadata": {},
   "outputs": [],
   "source": [
    "# Lets start with the naive implementation which is very simple:\n",
    "def fib(n):\n",
    "    return n if n < 2 else (fib(n - 2) + fib(n - 1))\n",
    "# This has O(2^n)"
   ]
  },
  {
   "cell_type": "code",
   "execution_count": 4,
   "metadata": {
    "collapsed": false
   },
   "outputs": [
    {
     "name": "stdout",
     "output_type": "stream",
     "text": [
      "832040\n"
     ]
    }
   ],
   "source": [
    "# 30 : 832040\n",
    "print(fib(30))"
   ]
  },
  {
   "cell_type": "code",
   "execution_count": 5,
   "metadata": {},
   "outputs": [],
   "source": [
    "# python's dictionaries makes it trivial to memoize the solution to achieve linear time\n",
    "cache = {}\n",
    "\n",
    "\n",
    "def fib_memoized(n):\n",
    "    if n in cache:\n",
    "        return cache[n]\n",
    "    else:\n",
    "        cache[n] = n if n < 2 else fib_memoized(n - 2) + fib_memoized(n - 1)\n",
    "        return cache[n]\n",
    "    \n",
    "# This has linear time as we only calculate each fib number once, and store them on the dict"
   ]
  },
  {
   "cell_type": "code",
   "execution_count": 52,
   "metadata": {},
   "outputs": [
    {
     "name": "stdout",
     "output_type": "stream",
     "text": [
      "832040\n"
     ]
    }
   ],
   "source": [
    "# 30 : 832040\n",
    "print(fib_memoized(30))"
   ]
  },
  {
   "cell_type": "code",
   "execution_count": null,
   "metadata": {},
   "outputs": [],
   "source": [
    ""
   ]
  }
 ],
 "metadata": {
  "kernelspec": {
   "display_name": "Python 2",
   "language": "python",
   "name": "python2"
  },
  "language_info": {
   "codemirror_mode": {
    "name": "ipython",
    "version": 2
   },
   "file_extension": ".py",
   "mimetype": "text/x-python",
   "name": "python",
   "nbconvert_exporter": "python",
   "pygments_lexer": "ipython2",
   "version": "2.7.6"
  }
 },
 "nbformat": 4,
 "nbformat_minor": 0
}
