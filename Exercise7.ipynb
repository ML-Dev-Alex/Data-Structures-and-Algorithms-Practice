{
 "cells": [
  {
   "cell_type": "code",
   "execution_count": 79,
   "metadata": {
    "collapsed": true
   },
   "outputs": [],
   "source": [
    "# Write a function that, given a array of unique items, prints all of its subsets\n",
    "import numpy as np\n",
    "\n",
    "set1 = np.array([1, 2])\n",
    "set2 = np.array([1, 2, -3])\n",
    "\n",
    "# Lets use the examples and try to think about all of the subsets it should give out:\n",
    "# Set1: [1, 2], [1], [2], [],  \n",
    "# Set2: [1, 2, -3], [1, 2], [1, -3], [2, -3], [1], [2], [-3], []"
   ]
  },
  {
   "cell_type": "code",
   "execution_count": 76,
   "metadata": {},
   "outputs": [],
   "source": [
    "# This looks like a something that would be easily solved with a recursive function,\n",
    "# so lets try that out first:\n",
    "\n",
    "\n",
    "def subsets(subset):\n",
    "    sets = {}  # Initialize a dict to store all sets already printed so there is no redundancy\n",
    "    recursive(subset, sets)  # Start the chain of recursive calls to print all sets\n",
    "\n",
    "\n",
    "def recursive(subset, sets):\n",
    "    print(\"{}, \".format(subset))                 # Print current subset\n",
    "    sets.update({tuple(subset): tuple(subset)})  # And put it on the dict for fast lookup\n",
    "    for i in range(len(subset)):                 # For each element in the array,\n",
    "        sub = np.delete(subset, i)               # create a new subset without it\n",
    "        if tuple(sub) not in sets:               # If that subset is not already on the dict\n",
    "            recursive(sub, sets)                 # Start a new chain with it\n",
    "            \n",
    "# This should have O(n log n), as lookup is constant time, and we reduce the size of array on each iteration"
   ]
  },
  {
   "cell_type": "code",
   "execution_count": 81,
   "metadata": {
    "collapsed": true
   },
   "outputs": [
    {
     "name": "stdout",
     "output_type": "stream",
     "text": [
      "[1 2], \n[2], \n[], \n[1], \n\n\n[ 1  2 -3], \n[ 2 -3], \n[-3], \n[], \n[2], \n[ 1 -3], \n[1], \n[1 2], \n"
     ]
    }
   ],
   "source": [
    "subsets(set1)\n",
    "print(\"\\n\")\n",
    "subsets(set2)"
   ]
  },
  {
   "cell_type": "code",
   "execution_count": null,
   "metadata": {},
   "outputs": [],
   "source": []
  }
 ],
 "metadata": {
  "kernelspec": {
   "display_name": "Python 2",
   "language": "python",
   "name": "python2"
  },
  "language_info": {
   "codemirror_mode": {
    "name": "ipython",
    "version": 2
   },
   "file_extension": ".py",
   "mimetype": "text/x-python",
   "name": "python",
   "nbconvert_exporter": "python",
   "pygments_lexer": "ipython2",
   "version": "2.7.6"
  }
 },
 "nbformat": 4,
 "nbformat_minor": 0
}
